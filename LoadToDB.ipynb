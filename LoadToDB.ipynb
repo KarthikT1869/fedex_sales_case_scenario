{
 "cells": [
  {
   "cell_type": "code",
   "execution_count": 3,
   "id": "61025963",
   "metadata": {},
   "outputs": [],
   "source": [
    "import pandas as pd\n",
    "import mysql.connector"
   ]
  },
  {
   "cell_type": "code",
   "execution_count": 5,
   "id": "544fbf2f",
   "metadata": {},
   "outputs": [
    {
     "name": "stderr",
     "output_type": "stream",
     "text": [
      "C:\\Users\\PC\\AppData\\Local\\Temp\\ipykernel_14128\\62152501.py:2: DtypeWarning: Columns (23) have mixed types. Specify dtype option on import or set low_memory=False.\n",
      "  df = pd.read_csv(r'C:\\Users\\PC\\Desktop\\FedEx\\Amazon Sale Report.csv')\n"
     ]
    },
    {
     "name": "stdout",
     "output_type": "stream",
     "text": [
      "<class 'pandas.core.frame.DataFrame'>\n",
      "RangeIndex: 128975 entries, 0 to 128974\n",
      "Data columns (total 24 columns):\n",
      " #   Column              Non-Null Count   Dtype  \n",
      "---  ------              --------------   -----  \n",
      " 0   index               128975 non-null  int64  \n",
      " 1   Order ID            128975 non-null  object \n",
      " 2   Date                128975 non-null  object \n",
      " 3   Status              128975 non-null  object \n",
      " 4   Fulfilment          128975 non-null  object \n",
      " 5   Sales Channel       128975 non-null  object \n",
      " 6   ship-service-level  128975 non-null  object \n",
      " 7   Style               128975 non-null  object \n",
      " 8   SKU                 128975 non-null  object \n",
      " 9   Category            128975 non-null  object \n",
      " 10  Size                128975 non-null  object \n",
      " 11  ASIN                128975 non-null  object \n",
      " 12  Courier Status      122103 non-null  object \n",
      " 13  Qty                 128975 non-null  int64  \n",
      " 14  currency            121180 non-null  object \n",
      " 15  Amount              121180 non-null  float64\n",
      " 16  ship-city           128942 non-null  object \n",
      " 17  ship-state          128942 non-null  object \n",
      " 18  ship-postal-code    128942 non-null  float64\n",
      " 19  ship-country        128942 non-null  object \n",
      " 20  promotion-ids       79822 non-null   object \n",
      " 21  B2B                 128975 non-null  bool   \n",
      " 22  fulfilled-by        39277 non-null   object \n",
      " 23  Unnamed: 22         79925 non-null   object \n",
      "dtypes: bool(1), float64(2), int64(2), object(19)\n",
      "memory usage: 190.2 MB\n",
      "   index             Order ID      Date                        Status  \\\n",
      "0      0  405-8078784-5731545  04-30-22                     Cancelled   \n",
      "1      1  171-9198151-1101146  04-30-22  Shipped - Delivered to Buyer   \n",
      "2      2  404-0687676-7273146  04-30-22                       Shipped   \n",
      "3      3  403-9615377-8133951  04-30-22                     Cancelled   \n",
      "4      4  407-1069790-7240320  04-30-22                       Shipped   \n",
      "\n",
      "  Fulfilment Sales Channel  ship-service-level    Style              SKU  \\\n",
      "0   Merchant      Amazon.in           Standard   SET389   SET389-KR-NP-S   \n",
      "1   Merchant      Amazon.in           Standard  JNE3781  JNE3781-KR-XXXL   \n",
      "2     Amazon      Amazon.in          Expedited  JNE3371    JNE3371-KR-XL   \n",
      "3   Merchant      Amazon.in           Standard    J0341       J0341-DR-L   \n",
      "4     Amazon      Amazon.in          Expedited  JNE3671  JNE3671-TU-XXXL   \n",
      "\n",
      "        Category  ... currency  Amount    ship-city   ship-state  \\\n",
      "0            Set  ...      INR  647.62       MUMBAI  MAHARASHTRA   \n",
      "1          kurta  ...      INR  406.00    BENGALURU    KARNATAKA   \n",
      "2          kurta  ...      INR  329.00  NAVI MUMBAI  MAHARASHTRA   \n",
      "3  Western Dress  ...      INR  753.33   PUDUCHERRY   PUDUCHERRY   \n",
      "4            Top  ...      INR  574.00      CHENNAI   TAMIL NADU   \n",
      "\n",
      "  ship-postal-code  ship-country  \\\n",
      "0         400081.0            IN   \n",
      "1         560085.0            IN   \n",
      "2         410210.0            IN   \n",
      "3         605008.0            IN   \n",
      "4         600073.0            IN   \n",
      "\n",
      "                                       promotion-ids    B2B  fulfilled-by  \\\n",
      "0                                                NaN  False     Easy Ship   \n",
      "1  Amazon PLCC Free-Financing Universal Merchant ...  False     Easy Ship   \n",
      "2       IN Core Free Shipping 2015/04/08 23-48-5-108   True           NaN   \n",
      "3                                                NaN  False     Easy Ship   \n",
      "4                                                NaN  False           NaN   \n",
      "\n",
      "  Unnamed: 22  \n",
      "0         NaN  \n",
      "1         NaN  \n",
      "2         NaN  \n",
      "3         NaN  \n",
      "4         NaN  \n",
      "\n",
      "[5 rows x 24 columns]\n"
     ]
    }
   ],
   "source": [
    "#read csv file without specifying/changing data types\n",
    "df = pd.read_csv(r'C:\\Users\\PC\\Desktop\\FedEx\\Amazon Sale Report.csv')\n",
    "\n",
    "\n",
    "#get memory usage stats of dataframe\n",
    "df.info(memory_usage = 'deep')\n",
    "\n",
    "#get memory usage stats of each column\n",
    "df.memory_usage(deep = True)\n",
    "\n",
    "#data preview to analyze options for changing data types\n",
    "print(df.head())"
   ]
  },
  {
   "cell_type": "code",
   "execution_count": 9,
   "id": "277748eb",
   "metadata": {},
   "outputs": [
    {
     "data": {
      "text/plain": [
       "index                 128975\n",
       "Order ID              120378\n",
       "Date                      91\n",
       "Status                    13\n",
       "Fulfilment                 2\n",
       "Sales Channel              2\n",
       "ship-service-level         2\n",
       "Style                   1377\n",
       "SKU                     7195\n",
       "Category                   9\n",
       "Size                      11\n",
       "ASIN                    7190\n",
       "Courier Status             3\n",
       "Qty                       10\n",
       "currency                   1\n",
       "Amount                  1410\n",
       "ship-city               8955\n",
       "ship-state                69\n",
       "ship-postal-code        9459\n",
       "ship-country               1\n",
       "promotion-ids           5787\n",
       "B2B                        2\n",
       "fulfilled-by               1\n",
       "Unnamed: 22                1\n",
       "dtype: int64"
      ]
     },
     "execution_count": 9,
     "metadata": {},
     "output_type": "execute_result"
    }
   ],
   "source": [
    "#df.info()\n",
    "df.describe()\n",
    "df.nunique()"
   ]
  },
  {
   "cell_type": "code",
   "execution_count": 52,
   "id": "d0b9c01a",
   "metadata": {},
   "outputs": [
    {
     "name": "stdout",
     "output_type": "stream",
     "text": [
      "[Index(['index', 'Order ID', 'Date', 'Status', 'Fulfilment', 'Sales Channel ',\n",
      "       'ship-service-level', 'Style', 'SKU', 'Category', 'Size', 'ASIN',\n",
      "       'Courier Status', 'Qty', 'currency', 'Amount', 'ship-city',\n",
      "       'ship-state', 'ship-postal-code', 'ship-country', 'promotion-ids',\n",
      "       'B2B', 'fulfilled-by', 'Unnamed: 22'],\n",
      "      dtype='object')]\n"
     ]
    }
   ],
   "source": [
    "df.loc[df.Amount.isnull()]\n",
    "cols = [df.columns]\n",
    "print(cols)"
   ]
  },
  {
   "cell_type": "code",
   "execution_count": 54,
   "id": "a1a9cb88",
   "metadata": {},
   "outputs": [
    {
     "name": "stdout",
     "output_type": "stream",
     "text": [
      "index text, Order ID text, Date text, Status text, Fulfilment text, Sales Channel  text, ship-service-level text, Style text, SKU text, Category text, Size text, ASIN text, Courier Status text, Qty text, currency text, Amount text, ship-city text, ship-state text, ship-postal-code text, ship-country text, promotion-ids text, B2B text, fulfilled-by text, Unnamed: 22 text, \n"
     ]
    }
   ],
   "source": [
    "columns = df.columns\n",
    "tbl_query = \"\"\"\"\"\"\n",
    "cols = \"\"\"\"\"\"\n",
    "org = ''\n",
    "for x in columns:\n",
    "    org += x  + ' text, '\n",
    "    x = x.rstrip(' ')\n",
    "    x = x.replace(' ','_').replace('-','_').replace(':','')\n",
    "    cols = cols + x + ', '\n",
    "    tbl_query = tbl_query + x + ' text, '\n",
    "print(org)\n",
    "#print(tbl_query)\n",
    "\n"
   ]
  },
  {
   "cell_type": "code",
   "execution_count": 7,
   "id": "fb5fb020",
   "metadata": {},
   "outputs": [
    {
     "name": "stdout",
     "output_type": "stream",
     "text": [
      "LOAD DATA INFILE 'C:/ProgramData/MySQL/MySQL Server 8.0/Uploads/Amazon Sale Report.csv' INTO TABLE amazon_sales_report \n",
      "  FIELDS TERMINATED BY ',' OPTIONALLY ENCLOSED BY '\"' IGNORE 1 LINES\n",
      "  (`index` , `Order ID` , `Date` , `Status` , Fulfilment , `Sales Channel`  , \n",
      "`ship-service-level` , Style , SKU , Category , Size , ASIN , `Courier Status` , Qty , currency , Amount , \n",
      "`ship-city` , `ship-state` , `ship-postal-code` , `ship-country` , `promotion-ids` , B2B , `fulfilled-by` , `Unnamed: 22`)\n",
      "insert_done\n"
     ]
    }
   ],
   "source": [
    "try:\n",
    "  conn = mysql.connector.connect(user='root', \n",
    "                                password='MySQL',\n",
    "                                host='127.0.0.1', \n",
    "                                database='sales_dl', \n",
    "                                allow_local_infile=True) \n",
    "\n",
    "except Exception as e:\n",
    "  print('error while connecting to DB, error is : ', e)\n",
    "\n",
    "\n",
    "else:\n",
    "  #city and brand are the most likely options to create index\n",
    "\n",
    "  cur = conn.cursor()\n",
    "  \n",
    "  \n",
    "  insert_query = \"\"\"LOAD DATA INFILE 'C:/ProgramData/MySQL/MySQL Server 8.0/Uploads/Amazon Sale Report.csv' INTO TABLE amazon_sales_report \n",
    "  FIELDS TERMINATED BY ',' OPTIONALLY ENCLOSED BY '\"' IGNORE 1 LINES\n",
    "  (`index` , `Order ID` , `Date` , `Status` , Fulfilment , `Sales Channel`  , \n",
    "`ship-service-level` , Style , SKU , Category , Size , ASIN , `Courier Status` , Qty , currency , Amount , \n",
    "`ship-city` , `ship-state` , `ship-postal-code` , `ship-country` , `promotion-ids` , B2B , `fulfilled-by` , `Unnamed: 22`)\"\"\"\n",
    "  \n",
    "  print(insert_query)\n",
    "  cur.execute(insert_query)\n",
    "  print('insert_done')\n",
    "  conn.commit()\n",
    "  cur.close()\n",
    "  \n",
    "\n",
    "conn.close()\n"
   ]
  }
 ],
 "metadata": {
  "kernelspec": {
   "display_name": "Python 3 (ipykernel)",
   "language": "python",
   "name": "python3"
  },
  "language_info": {
   "codemirror_mode": {
    "name": "ipython",
    "version": 3
   },
   "file_extension": ".py",
   "mimetype": "text/x-python",
   "name": "python",
   "nbconvert_exporter": "python",
   "pygments_lexer": "ipython3",
   "version": "3.11.4"
  }
 },
 "nbformat": 4,
 "nbformat_minor": 5
}
